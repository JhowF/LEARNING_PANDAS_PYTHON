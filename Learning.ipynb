{
 "cells": [
  {
   "cell_type": "markdown",
   "metadata": {},
   "source": [
    "                          ALTERAÇÕES NA TABELA EM LINHA OU COLUNAS"
   ]
  },
  {
   "cell_type": "code",
   "execution_count": 160,
   "metadata": {},
   "outputs": [
    {
     "name": "stdout",
     "output_type": "stream",
     "text": [
      "18\n",
      "(6, 3)\n",
      "False\n"
     ]
    }
   ],
   "source": [
    "import pandas as pd\n",
    "import matplotlib.pyplot as plt\n",
    "\n",
    "table = pd.read_excel('Pasta de trabalho 1.xlsx') \n",
    "table = table.rename(columns={'NOME' : 'RESPONSÁVEL'}) #Usado para renomear colunas\n",
    "table = table.rename(index={0: \"x\", 1: \"y\", 2: \"z\"}) #Usado para renomear os números de indices no inicio da tabela _É necessario armazenar em uma variavel\n",
    "table = table.replace('Wagner', 'Jhow') #Usado pra renomear um arquivo em uma linha \n",
    "\n",
    "\n",
    "#table.info()\n",
    "print(table.size) #Me diz quantos elementos possui na tabela tirando os titulos.\n",
    "\n",
    "print(table.shape)  #Me informa a quantidade de linha e a quantidade de colunas nessa ordem linhas por colunas.\n",
    "\n",
    "table.head(3)  #Posso escolher ver a quantidade de linhas comforme eu deseje apenas mudando o número dentro de head().\n",
    "\n",
    "print(table.empty) #Me diz se na tabela exite algum valor vazio.\n",
    "\n"
   ]
  },
  {
   "cell_type": "markdown",
   "metadata": {},
   "source": [
    "                            ALTERAÇÕES NA TABELA 2.0  "
   ]
  },
  {
   "cell_type": "code",
   "execution_count": 247,
   "metadata": {},
   "outputs": [
    {
     "data": {
      "text/html": [
       "<div>\n",
       "<style scoped>\n",
       "    .dataframe tbody tr th:only-of-type {\n",
       "        vertical-align: middle;\n",
       "    }\n",
       "\n",
       "    .dataframe tbody tr th {\n",
       "        vertical-align: top;\n",
       "    }\n",
       "\n",
       "    .dataframe thead th {\n",
       "        text-align: right;\n",
       "    }\n",
       "</style>\n",
       "<table border=\"1\" class=\"dataframe\">\n",
       "  <thead>\n",
       "    <tr style=\"text-align: right;\">\n",
       "      <th></th>\n",
       "      <th>RESPONSÁVEL</th>\n",
       "      <th>DATA</th>\n",
       "      <th>VALOR</th>\n",
       "      <th>IDADES</th>\n",
       "    </tr>\n",
       "  </thead>\n",
       "  <tbody>\n",
       "    <tr>\n",
       "      <th>1</th>\n",
       "      <td></td>\n",
       "      <td>2022-02-22 00:00:00</td>\n",
       "      <td>255</td>\n",
       "      <td>21</td>\n",
       "    </tr>\n",
       "    <tr>\n",
       "      <th>2</th>\n",
       "      <td></td>\n",
       "      <td>2022-02-23 00:00:00</td>\n",
       "      <td>357</td>\n",
       "      <td>21</td>\n",
       "    </tr>\n",
       "    <tr>\n",
       "      <th>3</th>\n",
       "      <td>Arthu</td>\n",
       "      <td>2Okay</td>\n",
       "      <td>798</td>\n",
       "      <td>14</td>\n",
       "    </tr>\n",
       "    <tr>\n",
       "      <th>4</th>\n",
       "      <td>Carlos</td>\n",
       "      <td>2022-02-25 00:00:00</td>\n",
       "      <td>777</td>\n",
       "      <td>16</td>\n",
       "    </tr>\n",
       "    <tr>\n",
       "      <th>5</th>\n",
       "      <td>Alexandra</td>\n",
       "      <td>2022-02-26 00:00:00</td>\n",
       "      <td>999</td>\n",
       "      <td>22</td>\n",
       "    </tr>\n",
       "  </tbody>\n",
       "</table>\n",
       "</div>"
      ],
      "text/plain": [
       "  RESPONSÁVEL                DATA   VALOR  IDADES\n",
       "1              2022-02-22 00:00:00    255      21\n",
       "2              2022-02-23 00:00:00    357      21\n",
       "3       Arthu                2Okay    798      14\n",
       "4      Carlos  2022-02-25 00:00:00    777      16\n",
       "5   Alexandra  2022-02-26 00:00:00    999      22"
      ]
     },
     "execution_count": 247,
     "metadata": {},
     "output_type": "execute_result"
    }
   ],
   "source": [
    "tabçe = table.rename(index={\"x\": 0, \"y\": 1, \"z\": 2})\n",
    "tabçe.replace({'2022-02-24': 10})\n",
    "tabçe.replace({10: '2022-02-24', '2022-02-24': 'Certinho', 525:780})\n",
    "tabçe.replace({'2022-02-24': '2Okay', 525:798})\n",
    "\n"
   ]
  },
  {
   "cell_type": "markdown",
   "metadata": {},
   "source": [
    "                               GRÁFICOS"
   ]
  },
  {
   "cell_type": "code",
   "execution_count": 161,
   "metadata": {},
   "outputs": [
    {
     "data": {
      "image/png": "[encoded data removed]",
      "text/plain": [
       "<Figure size 432x288 with 1 Axes>"
      ]
     },
     "metadata": {
      "needs_background": "light"
     },
     "output_type": "display_data"
    }
   ],
   "source": [
    "#GRAFICO PIZZA       plt.pie(table['VALOR'], labels=table['RESPONSÁVEL'], autopct='%.2f%%') #pie indica o tipo de gráfico e labels serve pra dizer o parametro que desejo relacionar com o valor:\n",
    "#autopct='%.2f%%'  #Usado para formata em porcentagem\n",
    "\n",
    "                            # plt.scatter(table['VALOR'], table['RESPONSÁVEL'], c='k')  #_Primeiro indico o eixo x e depois indico o eixo y o c='k' serve para indicar que a cor dos pontinho\n",
    "                            # será pleta.\n",
    "#GRÁFICO DE PONTINHOS\n",
    "                            # plt.xlabel('valor')\n",
    "                            # plt.ylabel('RESPONSÁVEL')\n",
    "\n",
    "\n",
    "\n",
    "plt.bar(table['VALOR'], table['RESPONSÁVEL'], width=70, color='b' )  #Valor serve para indicar o eixo x na tabela e responsavel para indicar o eixo y, width para indicar o tamanho dos pilares \n",
    "#e b representa a cor azul.!\n",
    "\n",
    "plt.show()  #serve para dizer que desejo vizualizar o meu programa.\n"
   ]
  },
  {
   "cell_type": "markdown",
   "metadata": {},
   "source": [
    "                            ADICIONAR VALORES OU ARGUMENTOS NA LISTA"
   ]
  },
  {
   "cell_type": "code",
   "execution_count": 162,
   "metadata": {},
   "outputs": [
    {
     "data": {
      "text/html": [
       "<div>\n",
       "<style scoped>\n",
       "    .dataframe tbody tr th:only-of-type {\n",
       "        vertical-align: middle;\n",
       "    }\n",
       "\n",
       "    .dataframe tbody tr th {\n",
       "        vertical-align: top;\n",
       "    }\n",
       "\n",
       "    .dataframe thead th {\n",
       "        text-align: right;\n",
       "    }\n",
       "</style>\n",
       "<table border=\"1\" class=\"dataframe\">\n",
       "  <thead>\n",
       "    <tr style=\"text-align: right;\">\n",
       "      <th></th>\n",
       "      <th>RESPONSÁVEL</th>\n",
       "      <th>DATA</th>\n",
       "      <th>VALOR</th>\n",
       "      <th>IDADES</th>\n",
       "      <th>TEST</th>\n",
       "    </tr>\n",
       "  </thead>\n",
       "  <tbody>\n",
       "    <tr>\n",
       "      <th>x</th>\n",
       "      <td>Paloma</td>\n",
       "      <td>2022-02-21</td>\n",
       "      <td>256</td>\n",
       "      <td>18</td>\n",
       "      <td>NaN</td>\n",
       "    </tr>\n",
       "    <tr>\n",
       "      <th>y</th>\n",
       "      <td>Jonathan</td>\n",
       "      <td>2022-02-22</td>\n",
       "      <td>255</td>\n",
       "      <td>21</td>\n",
       "      <td>26.0</td>\n",
       "    </tr>\n",
       "    <tr>\n",
       "      <th>z</th>\n",
       "      <td>Jhow</td>\n",
       "      <td>2022-02-23</td>\n",
       "      <td>357</td>\n",
       "      <td>21</td>\n",
       "      <td>NaN</td>\n",
       "    </tr>\n",
       "    <tr>\n",
       "      <th>3</th>\n",
       "      <td>Arthu</td>\n",
       "      <td>2022-02-24</td>\n",
       "      <td>525</td>\n",
       "      <td>14</td>\n",
       "      <td>27.0</td>\n",
       "    </tr>\n",
       "    <tr>\n",
       "      <th>4</th>\n",
       "      <td>Carlos</td>\n",
       "      <td>2022-02-25</td>\n",
       "      <td>777</td>\n",
       "      <td>16</td>\n",
       "      <td>NaN</td>\n",
       "    </tr>\n",
       "    <tr>\n",
       "      <th>5</th>\n",
       "      <td>Alexandra</td>\n",
       "      <td>2022-02-26</td>\n",
       "      <td>999</td>\n",
       "      <td>22</td>\n",
       "      <td>28.0</td>\n",
       "    </tr>\n",
       "  </tbody>\n",
       "</table>\n",
       "</div>"
      ],
      "text/plain": [
       "  RESPONSÁVEL      DATA   VALOR  IDADES  TEST\n",
       "x      Paloma 2022-02-21    256      18   NaN\n",
       "y    Jonathan 2022-02-22    255      21  26.0\n",
       "z        Jhow 2022-02-23    357      21   NaN\n",
       "3       Arthu 2022-02-24    525      14  27.0\n",
       "4      Carlos 2022-02-25    777      16   NaN\n",
       "5   Alexandra 2022-02-26    999      22  28.0"
      ]
     },
     "metadata": {},
     "output_type": "display_data"
    },
    {
     "name": "stdout",
     "output_type": "stream",
     "text": [
      "False\n"
     ]
    }
   ],
   "source": [
    "table.insert(3, 'IDADES', [18, 21, 21, 14, 16, 22] ) #usado pra adicionar uma nova tabela na minha coluna.\n",
    "table.insert(4, 'TEST', pd.Series([26, 27, 28], index=['y',3,5])) #Usado para adicionar algo em um local especifico.\n",
    "display(table)\n",
    "print(table.empty)"
   ]
  },
  {
   "cell_type": "code",
   "execution_count": 163,
   "metadata": {},
   "outputs": [
    {
     "data": {
      "text/html": [
       "<div>\n",
       "<style scoped>\n",
       "    .dataframe tbody tr th:only-of-type {\n",
       "        vertical-align: middle;\n",
       "    }\n",
       "\n",
       "    .dataframe tbody tr th {\n",
       "        vertical-align: top;\n",
       "    }\n",
       "\n",
       "    .dataframe thead th {\n",
       "        text-align: right;\n",
       "    }\n",
       "</style>\n",
       "<table border=\"1\" class=\"dataframe\">\n",
       "  <thead>\n",
       "    <tr style=\"text-align: right;\">\n",
       "      <th></th>\n",
       "      <th>RESPONSÁVEL</th>\n",
       "      <th>DATA</th>\n",
       "      <th>VALOR</th>\n",
       "      <th>IDADES</th>\n",
       "    </tr>\n",
       "  </thead>\n",
       "  <tbody>\n",
       "    <tr>\n",
       "      <th>y</th>\n",
       "      <td></td>\n",
       "      <td>2022-02-22</td>\n",
       "      <td>255</td>\n",
       "      <td>21</td>\n",
       "    </tr>\n",
       "    <tr>\n",
       "      <th>z</th>\n",
       "      <td></td>\n",
       "      <td>2022-02-23</td>\n",
       "      <td>357</td>\n",
       "      <td>21</td>\n",
       "    </tr>\n",
       "    <tr>\n",
       "      <th>3</th>\n",
       "      <td>Arthu</td>\n",
       "      <td>2022-02-24</td>\n",
       "      <td>525</td>\n",
       "      <td>14</td>\n",
       "    </tr>\n",
       "    <tr>\n",
       "      <th>4</th>\n",
       "      <td>Carlos</td>\n",
       "      <td>2022-02-25</td>\n",
       "      <td>777</td>\n",
       "      <td>16</td>\n",
       "    </tr>\n",
       "    <tr>\n",
       "      <th>5</th>\n",
       "      <td>Alexandra</td>\n",
       "      <td>2022-02-26</td>\n",
       "      <td>999</td>\n",
       "      <td>22</td>\n",
       "    </tr>\n",
       "  </tbody>\n",
       "</table>\n",
       "</div>"
      ],
      "text/plain": [
       "  RESPONSÁVEL      DATA   VALOR  IDADES\n",
       "y             2022-02-22    255      21\n",
       "z             2022-02-23    357      21\n",
       "3       Arthu 2022-02-24    525      14\n",
       "4      Carlos 2022-02-25    777      16\n",
       "5   Alexandra 2022-02-26    999      22"
      ]
     },
     "metadata": {},
     "output_type": "display_data"
    }
   ],
   "source": [
    "table = table.drop(index='x')\n",
    "table = table.drop(columns='TEST')\n",
    "table = table.replace(['Jonathan', 'Jhow'], '') #Selecionando dessa maneira em lista posso seleioncar mais de 1 por vez.\n",
    "display(table)"
   ]
  },
  {
   "cell_type": "markdown",
   "metadata": {},
   "source": [
    "\n",
    "\n",
    "\n",
    "\n",
    " <!-- tabela[\"coluna\"] = pd.to_numeric(tabela[\"coluna\"], errors=\"coerce\") -->\n",
    " <!-- print(dados.columns.to_list())\n",
    "\n",
    " dados = dados.rename(columns={\"Unnamed: 1\":\"Test\"})\n",
    "\n",
    " dados = dados.drop(\"Unnamed: 7\", axis=1)\n",
    " dados = dados.drop(\"Unnamed: 8\", axis=1)\n",
    " dados = dados.drop(\"Unnamed: 9\", axis=1)\n",
    " dados =\n",
    " print(dados.info())\n",
    "\n",
    " dados = dados.drop(0, axis=0)\n",
    " dados = dados.dropna(how=\"all\", axis=1) -->"
   ]
  },
  {
   "cell_type": "code",
   "execution_count": null,
   "metadata": {},
   "outputs": [],
   "source": [
    "#Lista_IR.to_excel('Nome_do_arquivo.xlsx')"
   ]
  },
  {
   "cell_type": "markdown",
   "metadata": {},
   "source": [
    "   LER LINHA DE DATAFRAME 2 MANEIRAS ABAIXO"
   ]
  },
  {
   "cell_type": "code",
   "execution_count": null,
   "metadata": {},
   "outputs": [],
   "source": [
    "#Maneira mais simples e recomendada\n",
    "\n",
    "import csv\n",
    "dados = []\n",
    "with open (\"Lista_clientes_IR.csv\") as file:\n",
    "    ler_csv = csv.reader(file)\n",
    "    for linha in ler_csv:\n",
    "        dados.append(linha)\n",
    "    print(dados)\n",
    "        #return dados"
   ]
  },
  {
   "cell_type": "code",
   "execution_count": null,
   "metadata": {},
   "outputs": [],
   "source": [
    "#Maneira que descobrir depois de muita teimosia.kkk\n",
    "import pandas   \n",
    "dados = []\n",
    "with open(\"NOME_DO_ARQUIVO.csv\") as file:\n",
    "    ler_csv = pandas.read_csv(file)\n",
    "    ler_csv = ler_csv.drop(columns='Unnamed: 0') #não obrigatoria essa linha\n",
    "    for linha in ler_csv.itertuples():\n",
    "        n = [(linha.coluna0),(linha.coluna1),(linha.coluna2),(linha.coluna3),(linha.coluna4)] \n",
    "        dados.append(n)\n",
    "print(dados)\n",
    "    # return dados"
   ]
  },
  {
   "cell_type": "markdown",
   "metadata": {},
   "source": [
    "REPARTINDO DADOS"
   ]
  },
  {
   "cell_type": "code",
   "execution_count": null,
   "metadata": {},
   "outputs": [],
   "source": [
    "#self.cpf = self.cpf[:3] + '.' + self.cpf[3:6] + \".\"  + self.cpf[6:9] + '-' + self.cpf[9:]"
   ]
  }
 ],
 "metadata": {
  "kernelspec": {
   "display_name": "Python 3.10.5 64-bit",
   "language": "python",
   "name": "python3"
  },
  "language_info": {
   "codemirror_mode": {
    "name": "ipython",
    "version": 3
   },
   "file_extension": ".py",
   "mimetype": "text/x-python",
   "name": "python",
   "nbconvert_exporter": "python",
   "pygments_lexer": "ipython3",
   "version": "3.10.5"
  },
  "orig_nbformat": 4,
  "vscode": {
   "interpreter": {
    "hash": "0b0fd4633de05edccea65918a8b972faac23e93e000e566af4ebc5a9acb714a9"
   }
  }
 },
 "nbformat": 4,
 "nbformat_minor": 2
}
